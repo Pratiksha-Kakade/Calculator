{
 "cells": [
  {
   "cell_type": "code",
   "execution_count": 6,
   "id": "47fe660c",
   "metadata": {},
   "outputs": [
    {
     "name": "stdout",
     "output_type": "stream",
     "text": [
      "select operation \n",
      "1 : Add\n",
      "2 : substraction\n",
      "3 : multiply\n",
      "4 : divide\n",
      "\n",
      "select the operation from 1,2,3,4 = 4\n",
      "Enter the first number = 108\n",
      "Enter the first number = 12\n",
      "108 / 12 = 9.0\n"
     ]
    }
   ],
   "source": [
    "import calculator\n",
    "print(\"select operation \\n\"\n",
    "\"1 : Add\\n\"\n",
    "\"2 : substraction\\n\"\n",
    "\"3 : multiply\\n\"\n",
    "\"4 : divide\\n\")\n",
    "\n",
    "def main():\n",
    "    select = int(input(\"select the operation from 1,2,3,4 = \"))\n",
    "    number_1 = int(input(\"Enter the first number = \"))\n",
    "    number_2 = int(input(\"Enter the first number = \"))\n",
    "    if select == 1:\n",
    "        print(number_1,\"+\",number_2,\"=\",calculator.add(number_1,number_2))\n",
    "        \n",
    "    elif select==2:\n",
    "        print(number_1,\"-\",number_2,\"=\",calculator.substract(number_1,number_2))\n",
    "        \n",
    "    elif select==3:\n",
    "        print(number_1,\"*\",number_2,\"=\",calculator.multiply(number_1,number_2))\n",
    "        \n",
    "    elif select==4:\n",
    "        print(number_1,\"/\",number_2,\"=\",calculator.divide(number_1,number_2))\n",
    "    \n",
    "    else:\n",
    "        print(\"Invalid Input\")\n",
    "        \n",
    "main()\n",
    "        "
   ]
  },
  {
   "cell_type": "markdown",
   "id": "d8fb5201",
   "metadata": {},
   "source": []
  }
 ],
 "metadata": {
  "kernelspec": {
   "display_name": "Python 3 (ipykernel)",
   "language": "python",
   "name": "python3"
  },
  "language_info": {
   "codemirror_mode": {
    "name": "ipython",
    "version": 3
   },
   "file_extension": ".py",
   "mimetype": "text/x-python",
   "name": "python",
   "nbconvert_exporter": "python",
   "pygments_lexer": "ipython3",
   "version": "3.9.13"
  },
  "varInspector": {
   "cols": {
    "lenName": 16,
    "lenType": 16,
    "lenVar": 40
   },
   "kernels_config": {
    "python": {
     "delete_cmd_postfix": "",
     "delete_cmd_prefix": "del ",
     "library": "var_list.py",
     "varRefreshCmd": "print(var_dic_list())"
    },
    "r": {
     "delete_cmd_postfix": ") ",
     "delete_cmd_prefix": "rm(",
     "library": "var_list.r",
     "varRefreshCmd": "cat(var_dic_list()) "
    }
   },
   "types_to_exclude": [
    "module",
    "function",
    "builtin_function_or_method",
    "instance",
    "_Feature"
   ],
   "window_display": false
  }
 },
 "nbformat": 4,
 "nbformat_minor": 5
}
